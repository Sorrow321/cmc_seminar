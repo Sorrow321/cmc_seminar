{
 "cells": [
  {
   "cell_type": "code",
   "execution_count": 1,
   "metadata": {},
   "outputs": [],
   "source": [
    "from transformers import pipeline\n",
    "from transformers import BertConfig, BertForMaskedLM, DataCollatorForLanguageModeling, BertTokenizer\n",
    "import torch\n",
    "from pathlib import Path"
   ]
  },
  {
   "cell_type": "code",
   "execution_count": 3,
   "metadata": {},
   "outputs": [],
   "source": [
    "model = BertForMaskedLM.from_pretrained('model/')"
   ]
  },
  {
   "cell_type": "code",
   "execution_count": 4,
   "metadata": {},
   "outputs": [
    {
     "name": "stderr",
     "output_type": "stream",
     "text": [
      "/home/ilya/anaconda3/lib/python3.7/site-packages/transformers/tokenization_utils_base.py:1621: FutureWarning: Calling BertTokenizer.from_pretrained() with the path to a single file or url is deprecated and won't be possible anymore in v5. Use a model identifier or the path to a directory instead.\n",
      "  FutureWarning,\n"
     ]
    }
   ],
   "source": [
    "vocab_file_path = Path('tokenizer/30_tok-vocab.txt')\n",
    "tokenizer = BertTokenizer.from_pretrained(vocab_file_path)"
   ]
  },
  {
   "cell_type": "code",
   "execution_count": 5,
   "metadata": {},
   "outputs": [],
   "source": [
    "fill_mask = pipeline(\n",
    "    \"fill-mask\",\n",
    "    model=model,\n",
    "    tokenizer=tokenizer\n",
    ")"
   ]
  },
  {
   "cell_type": "code",
   "execution_count": 6,
   "metadata": {},
   "outputs": [
    {
     "data": {
      "text/plain": [
       "[{'sequence': 'чехол для samsung galaxy',\n",
       "  'score': 0.5545173287391663,\n",
       "  'token': 855,\n",
       "  'token_str': 's a m s u n g'},\n",
       " {'sequence': 'чехол для телефона galaxy',\n",
       "  'score': 0.061687879264354706,\n",
       "  'token': 1795,\n",
       "  'token_str': 'т е л е ф о н а'},\n",
       " {'sequence': 'чехол для одежды galaxy',\n",
       "  'score': 0.05454891547560692,\n",
       "  'token': 10461,\n",
       "  'token_str': 'о д е ж д ы'},\n",
       " {'sequence': 'чехол для iphone galaxy',\n",
       "  'score': 0.04296354949474335,\n",
       "  'token': 823,\n",
       "  'token_str': 'i p h o n e'},\n",
       " {'sequence': 'чехол для смартфона galaxy',\n",
       "  'score': 0.011455122381448746,\n",
       "  'token': 8733,\n",
       "  'token_str': 'с м а р т ф о н а'}]"
      ]
     },
     "execution_count": 6,
     "metadata": {},
     "output_type": "execute_result"
    }
   ],
   "source": [
    "fill_mask('чехол для [MASK] galaxy [SEP]')"
   ]
  },
  {
   "cell_type": "code",
   "execution_count": 7,
   "metadata": {
    "scrolled": true
   },
   "outputs": [
    {
     "data": {
      "text/plain": [
       "[{'sequence': 'купить чехол для iphone 6',\n",
       "  'score': 0.9618306756019592,\n",
       "  'token': 522,\n",
       "  'token_str': 'ч е х о л'},\n",
       " {'sequence': 'купить стекло для iphone 6',\n",
       "  'score': 0.0038562484551221132,\n",
       "  'token': 872,\n",
       "  'token_str': 'с т е к л о'},\n",
       " {'sequence': 'купить наклеики для iphone 6',\n",
       "  'score': 0.0036110864020884037,\n",
       "  'token': 5752,\n",
       "  'token_str': 'н а к л е и к и'},\n",
       " {'sequence': 'купить подставка для iphone 6',\n",
       "  'score': 0.0013970575528219342,\n",
       "  'token': 2670,\n",
       "  'token_str': 'п о д с т а в к а'},\n",
       " {'sequence': 'купить аккумулятор для iphone 6',\n",
       "  'score': 0.0008675674325786531,\n",
       "  'token': 2871,\n",
       "  'token_str': 'а к к у м у л я т о р'}]"
      ]
     },
     "execution_count": 7,
     "metadata": {},
     "output_type": "execute_result"
    }
   ],
   "source": [
    "fill_mask('купить [MASK] для iphone 6  [SEP]')"
   ]
  },
  {
   "cell_type": "code",
   "execution_count": 11,
   "metadata": {},
   "outputs": [
    {
     "data": {
      "text/plain": [
       "[{'sequence': 'купить чаиник bosch 2 литра',\n",
       "  'score': 0.07487241923809052,\n",
       "  'token': 4074,\n",
       "  'token_str': 'ч а и н и к'},\n",
       " {'sequence': 'купить вода bosch 2 литра',\n",
       "  'score': 0.05763985216617584,\n",
       "  'token': 654,\n",
       "  'token_str': 'в о д а'},\n",
       " {'sequence': 'купить кондиционер bosch 2 литра',\n",
       "  'score': 0.05190090462565422,\n",
       "  'token': 4341,\n",
       "  'token_str': 'к о н д и ц и о н е р'},\n",
       " {'sequence': 'купить квас bosch 2 литра',\n",
       "  'score': 0.05099261552095413,\n",
       "  'token': 1715,\n",
       "  'token_str': 'к в а с'},\n",
       " {'sequence': 'купить кувшин bosch 2 литра',\n",
       "  'score': 0.03511770814657211,\n",
       "  'token': 7830,\n",
       "  'token_str': 'к у в ш и н'}]"
      ]
     },
     "execution_count": 11,
     "metadata": {},
     "output_type": "execute_result"
    }
   ],
   "source": [
    "fill_mask('купить [MASK] bosch 2 литра [SEP]')"
   ]
  },
  {
   "cell_type": "code",
   "execution_count": 12,
   "metadata": {},
   "outputs": [
    {
     "data": {
      "text/plain": [
       "[{'sequence': 'молоко питьевое ультрапастеризованное',\n",
       "  'score': 0.12975719571113586,\n",
       "  'token': 16310,\n",
       "  'token_str': 'п и т ь е в о е'},\n",
       " {'sequence': 'молоко фрутоняня ультрапастеризованное',\n",
       "  'score': 0.04602883383631706,\n",
       "  'token': 3141,\n",
       "  'token_str': 'ф р у т о н я н я'},\n",
       " {'sequence': 'молоко свитлогорье ультрапастеризованное',\n",
       "  'score': 0.043549809604883194,\n",
       "  'token': 5259,\n",
       "  'token_str': 'с в и т л о г о р ь е'},\n",
       " {'sequence': 'молоко вкуснотеево ультрапастеризованное',\n",
       "  'score': 0.029766695573925972,\n",
       "  'token': 3559,\n",
       "  'token_str': 'в к у с н о т е е в о'},\n",
       " {'sequence': 'молоко соевое ультрапастеризованное',\n",
       "  'score': 0.027306614443659782,\n",
       "  'token': 21206,\n",
       "  'token_str': 'с о е в о е'}]"
      ]
     },
     "execution_count": 12,
     "metadata": {},
     "output_type": "execute_result"
    }
   ],
   "source": [
    "fill_mask('молоко [MASK] ультрапастеризованное [SEP]')"
   ]
  }
 ],
 "metadata": {
  "kernelspec": {
   "display_name": "Python 3",
   "language": "python",
   "name": "python3"
  },
  "language_info": {
   "codemirror_mode": {
    "name": "ipython",
    "version": 3
   },
   "file_extension": ".py",
   "mimetype": "text/x-python",
   "name": "python",
   "nbconvert_exporter": "python",
   "pygments_lexer": "ipython3",
   "version": "3.7.9"
  }
 },
 "nbformat": 4,
 "nbformat_minor": 4
}
