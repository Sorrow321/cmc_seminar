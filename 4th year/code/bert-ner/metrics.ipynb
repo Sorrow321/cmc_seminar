{
 "cells": [
  {
   "cell_type": "code",
   "execution_count": 1,
   "metadata": {},
   "outputs": [],
   "source": [
    "import json\n",
    "import matplotlib.pyplot as plt\n",
    "%matplotlib inline"
   ]
  },
  {
   "cell_type": "code",
   "execution_count": 2,
   "metadata": {},
   "outputs": [],
   "source": [
    "with open('model/trainer_state.json', 'rt') as f:\n",
    "    data = json.load(f)"
   ]
  },
  {
   "cell_type": "code",
   "execution_count": 3,
   "metadata": {},
   "outputs": [],
   "source": [
    "eval_loss = {}\n",
    "train_loss = {}\n",
    "for x in data['log_history']:\n",
    "    if 'loss' in x.keys():\n",
    "        train_loss[x['epoch']] = x['loss']\n",
    "    else:\n",
    "        eval_loss[x['epoch']] = x['eval_loss']"
   ]
  },
  {
   "cell_type": "code",
   "execution_count": 4,
   "metadata": {},
   "outputs": [
    {
     "data": {
      "image/png": "[encoded data removed]",
      "text/plain": [
       "<Figure size 720x360 with 1 Axes>"
      ]
     },
     "metadata": {
      "needs_background": "light"
     },
     "output_type": "display_data"
    }
   ],
   "source": [
    "plt.figure(figsize=(10, 5))\n",
    "plt.title('Loss на дообучении модели для NER')\n",
    "plt.plot(train_loss.keys(), train_loss.values(), label='Train loss')\n",
    "plt.plot(eval_loss.keys(), eval_loss.values(), label='Eval loss')\n",
    "plt.xlabel('Epoch')\n",
    "plt.ylabel('Cross-Entropy')\n",
    "plt.legend()\n",
    "plt.savefig('loss_ner.pdf')"
   ]
  },
  {
   "cell_type": "markdown",
   "metadata": {},
   "source": [
    "Измерим точность (accuracy) полученной NER сети на валидационной выборке."
   ]
  },
  {
   "cell_type": "code",
   "execution_count": 13,
   "metadata": {},
   "outputs": [],
   "source": [
    "from transformers import BertForTokenClassification, BertTokenizerFast, TokenClassificationPipeline\n",
    "import torch\n",
    "from pathlib import Path\n",
    "model = BertForTokenClassification.from_pretrained('model')\n",
    "tokenizer = BertTokenizerFast.from_pretrained('tokenizer')\n",
    "make_ner = TokenClassificationPipeline(\n",
    "    model=model,\n",
    "    tokenizer=tokenizer,\n",
    "    ignore_labels=[]\n",
    ")\n",
    "def make_prediction(input_sequence_of_words):\n",
    "    result = make_ner(' '.join(input_sequence_of_words))\n",
    "    try:\n",
    "        labels = [(x[0]['entity']) for x in result if '##' not in x[0]['word']]\n",
    "    except:\n",
    "        labels = [(x['entity']) for x in result if '##' not in x['word']]\n",
    "    return list(zip(input_sequence_of_words, labels))"
   ]
  },
  {
   "cell_type": "code",
   "execution_count": 14,
   "metadata": {},
   "outputs": [],
   "source": [
    "import re\n",
    "import json\n",
    "import numpy as np\n",
    "from pathlib import Path\n",
    "from sklearn.model_selection import train_test_split\n",
    "\n",
    "p = Path('.').glob('data/markup/*.json')\n",
    "data = []\n",
    "for filename in p:\n",
    "    with open(filename, 'rt') as file:\n",
    "        data += json.load(file)\n",
    "        \n",
    "def includes(in_start, in_end, out_start, out_end):\n",
    "    if out_start <= in_start and in_end <= out_end:\n",
    "        return True\n",
    "    return False\n",
    "\n",
    "def make_tags(data):\n",
    "    total_result = []\n",
    "    for query in data:\n",
    "        if 'ner' not in query.keys() or len(query['ner']) == 3:\n",
    "            continue\n",
    "        words_with_pos = [(m.group(0), m.start(), m.end()) for m in re.finditer(r'\\S+', query['text'])]\n",
    "        ner_list = [(x['htmllabels'][0], x['startOffset'], x['endOffset']) for x in query['ner']]\n",
    "        if ner_list[0][0] == 'Пропущено':\n",
    "            ner_list = []\n",
    "        if len(ner_list) == 2:\n",
    "            ner_list[1] = (ner_list[1][0], ner_list[0][2] + ner_list[1][1], ner_list[0][2] + ner_list[1][2])\n",
    "        sentence_wtags = []\n",
    "        for word, w_start, w_end in words_with_pos:\n",
    "            tagged = False\n",
    "            for tag, t_start, t_end in ner_list:\n",
    "                if includes(w_start, w_start, t_start, t_end):\n",
    "                    sentence_wtags.append((word, tag))\n",
    "                    tagged = True\n",
    "                    break\n",
    "            if not tagged:\n",
    "                sentence_wtags.append((word, 'O'))\n",
    "        total_result.append(sentence_wtags)\n",
    "    texts = [[x[0] for x in y] for y in total_result]\n",
    "    tags = [[x[1] for x in y] for y in total_result]\n",
    "    return texts, tags\n",
    "\n",
    "texts, tags = make_tags(data)\n",
    "train_texts, val_texts, train_tags, val_tags = train_test_split(texts, tags, test_size=0.05, random_state=42)"
   ]
  },
  {
   "cell_type": "markdown",
   "metadata": {},
   "source": [
    "Считаем точность..."
   ]
  },
  {
   "cell_type": "code",
   "execution_count": 19,
   "metadata": {},
   "outputs": [],
   "source": [
    "predicted_o = {'O':0, 'Товар':0, 'Бренд':0}\n",
    "predicted_i = {'O':0, 'Товар':0, 'Бренд':0}\n",
    "predicted_b = {'O':0, 'Товар':0, 'Бренд':0}\n",
    "confusion_matrix = {'O':predicted_o, 'Товар':predicted_i, 'Бренд':predicted_b}"
   ]
  },
  {
   "cell_type": "code",
   "execution_count": 42,
   "metadata": {},
   "outputs": [
    {
     "data": {
      "text/plain": [
       "500"
      ]
     },
     "execution_count": 42,
     "metadata": {},
     "output_type": "execute_result"
    }
   ],
   "source": [
    "len(val_tags)"
   ]
  },
  {
   "cell_type": "code",
   "execution_count": 24,
   "metadata": {},
   "outputs": [],
   "source": [
    "total_num = 0\n",
    "s = 0\n",
    "all_pred = []\n",
    "all_tag = []\n",
    "for text, tag_seq in zip(val_texts, val_tags):\n",
    "    prediction = make_prediction(text)\n",
    "    pred_tags = []\n",
    "    for i in range(len(prediction)):\n",
    "        pred_tags.append(prediction[i][1])\n",
    "    for pred, real in zip(pred_tags, tag_seq):\n",
    "        confusion_matrix[real][pred] += 1\n",
    "    all_pred += pred_tags\n",
    "    all_tag += tag_seq\n",
    "    z = np.array(pred_tags) == np.array(tag_seq)\n",
    "    total_num += len(z)\n",
    "    s += z.sum()\n",
    "acc = s / total_num"
   ]
  },
  {
   "cell_type": "code",
   "execution_count": 25,
   "metadata": {},
   "outputs": [
    {
     "data": {
      "text/plain": [
       "1149"
      ]
     },
     "execution_count": 25,
     "metadata": {},
     "output_type": "execute_result"
    }
   ],
   "source": [
    "len(all_pred)"
   ]
  },
  {
   "cell_type": "code",
   "execution_count": 26,
   "metadata": {},
   "outputs": [
    {
     "data": {
      "text/plain": [
       "1149"
      ]
     },
     "execution_count": 26,
     "metadata": {},
     "output_type": "execute_result"
    }
   ],
   "source": [
    "len(all_tag)"
   ]
  },
  {
   "cell_type": "code",
   "execution_count": 28,
   "metadata": {},
   "outputs": [],
   "source": [
    "all_pred = np.array(all_pred)\n",
    "all_tag = np.array(all_tag)"
   ]
  },
  {
   "cell_type": "code",
   "execution_count": 31,
   "metadata": {},
   "outputs": [],
   "source": [
    "correct = 0\n",
    "found = 0\n",
    "for pred, tag in zip(all_pred, all_tag):\n",
    "    if pred != 'O':\n",
    "        found += 1\n",
    "        if pred == tag:\n",
    "            correct += 1"
   ]
  },
  {
   "cell_type": "code",
   "execution_count": 35,
   "metadata": {},
   "outputs": [],
   "source": [
    "precision = correct / found"
   ]
  },
  {
   "cell_type": "code",
   "execution_count": 36,
   "metadata": {},
   "outputs": [],
   "source": [
    "correct = 0\n",
    "found = 0\n",
    "for pred, tag in zip(all_pred, all_tag):\n",
    "    if tag != 'O':\n",
    "        found += 1\n",
    "        if pred == tag:\n",
    "            correct += 1"
   ]
  },
  {
   "cell_type": "code",
   "execution_count": 37,
   "metadata": {},
   "outputs": [],
   "source": [
    "recall = correct / found"
   ]
  },
  {
   "cell_type": "code",
   "execution_count": 41,
   "metadata": {},
   "outputs": [
    {
     "data": {
      "text/plain": [
       "0.9120171673819744"
      ]
     },
     "execution_count": 41,
     "metadata": {},
     "output_type": "execute_result"
    }
   ],
   "source": [
    "2 * precision * recall / (precision + recall)"
   ]
  },
  {
   "cell_type": "code",
   "execution_count": 21,
   "metadata": {},
   "outputs": [
    {
     "data": {
      "text/plain": [
       "{'O': {'O': 654, 'Товар': 20, 'Бренд': 7},\n",
       " 'Товар': {'O': 22, 'Товар': 412, 'Бренд': 6},\n",
       " 'Бренд': {'O': 9, 'Товар': 6, 'Бренд': 13}}"
      ]
     },
     "execution_count": 21,
     "metadata": {},
     "output_type": "execute_result"
    }
   ],
   "source": [
    "confusion_matrix"
   ]
  },
  {
   "cell_type": "code",
   "execution_count": null,
   "metadata": {},
   "outputs": [],
   "source": []
  }
 ],
 "metadata": {
  "kernelspec": {
   "display_name": "Python 3",
   "language": "python",
   "name": "python3"
  },
  "language_info": {
   "codemirror_mode": {
    "name": "ipython",
    "version": 3
   },
   "file_extension": ".py",
   "mimetype": "text/x-python",
   "name": "python",
   "nbconvert_exporter": "python",
   "pygments_lexer": "ipython3",
   "version": "3.7.9"
  }
 },
 "nbformat": 4,
 "nbformat_minor": 4
}
